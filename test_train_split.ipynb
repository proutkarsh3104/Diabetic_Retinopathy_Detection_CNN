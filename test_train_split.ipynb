{
 "cells": [
  {
   "cell_type": "code",
   "execution_count": 1,
   "metadata": {},
   "outputs": [],
   "source": [
    "import os\n",
    "import pandas as pd"
   ]
  },
  {
   "cell_type": "code",
   "execution_count": 2,
   "metadata": {},
   "outputs": [],
   "source": [
    "# Path to your dataset folder (e.g., \"your_dataset/\")\n",
    "dataset_root = \"archive_2_eyes\""
   ]
  },
  {
   "cell_type": "code",
   "execution_count": 3,
   "metadata": {},
   "outputs": [],
   "source": [
    "# Collect all image paths and labels\n",
    "data = []\n",
    "for class_folder in os.listdir(dataset_root):\n",
    "    class_path = os.path.join(dataset_root, class_folder)\n",
    "    if os.path.isdir(class_path):\n",
    "        # Extract label from folder name (e.g., \"0-No DR\" → label=0)\n",
    "        label = int(class_folder.split('-')[0])\n",
    "        # Get all image files in the folder\n",
    "        for img_file in os.listdir(class_path):\n",
    "            img_path = os.path.join(class_path, img_file)\n",
    "            data.append({\"image_path\": img_path, \"label\": label})"
   ]
  },
  {
   "cell_type": "code",
   "execution_count": 4,
   "metadata": {},
   "outputs": [
    {
     "name": "stdout",
     "output_type": "stream",
     "text": [
      "CSV generated successfully!\n"
     ]
    }
   ],
   "source": [
    "# Create DataFrame and save as CSV\n",
    "df = pd.DataFrame(data)\n",
    "df.to_csv(\"labels.csv\", index=False)\n",
    "print(\"CSV generated successfully!\")"
   ]
  }
 ],
 "metadata": {
  "kernelspec": {
   "display_name": ".eyes",
   "language": "python",
   "name": "python3"
  },
  "language_info": {
   "codemirror_mode": {
    "name": "ipython",
    "version": 3
   },
   "file_extension": ".py",
   "mimetype": "text/x-python",
   "name": "python",
   "nbconvert_exporter": "python",
   "pygments_lexer": "ipython3",
   "version": "3.11.0"
  }
 },
 "nbformat": 4,
 "nbformat_minor": 2
}
